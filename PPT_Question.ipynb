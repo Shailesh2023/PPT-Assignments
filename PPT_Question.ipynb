{
 "cells": [
  {
   "cell_type": "markdown",
   "id": "fed505fb",
   "metadata": {},
   "source": [
    "***PPT-ASSIGNMENT***"
   ]
  },
  {
   "cell_type": "markdown",
   "id": "d77325ab",
   "metadata": {},
   "source": [
    "**1. Write a Python program to reverse a string without using any built-in string reversal functions.**\n"
   ]
  },
  {
   "cell_type": "code",
   "execution_count": 7,
   "id": "3c3ab72a",
   "metadata": {},
   "outputs": [
    {
     "name": "stdout",
     "output_type": "stream",
     "text": [
      "New_reversed_name : HSELIAHS\n"
     ]
    }
   ],
   "source": [
    "Name = \"SHAILESH\"\n",
    "Name_New =(Name[::-1])\n",
    "print(f\"New_reversed_name :\",Name_New)"
   ]
  },
  {
   "cell_type": "markdown",
   "id": "5dcd6c7c",
   "metadata": {},
   "source": [
    "**2. Implement a function to check if a given string is a palindrome.**"
   ]
  },
  {
   "cell_type": "code",
   "execution_count": 10,
   "id": "128ada74",
   "metadata": {},
   "outputs": [
    {
     "name": "stdout",
     "output_type": "stream",
     "text": [
      "String is Palindrome\n"
     ]
    }
   ],
   "source": [
    "def Palindrome(Name):\n",
    "    if Name==Name[::-1]:\n",
    "        print(\"String is Palindrome\")\n",
    "    else:\n",
    "        return \"String is not a Palindrome\"\n",
    "\n",
    "Name = \"MOM\"\n",
    "Palindrome(Name)"
   ]
  },
  {
   "cell_type": "markdown",
   "id": "b54366d5",
   "metadata": {},
   "source": [
    "**3. Write a program to find the largest element in a given list.**"
   ]
  },
  {
   "cell_type": "code",
   "execution_count": 13,
   "id": "e4a06eb3",
   "metadata": {},
   "outputs": [
    {
     "data": {
      "text/plain": [
       "98"
      ]
     },
     "execution_count": 13,
     "metadata": {},
     "output_type": "execute_result"
    }
   ],
   "source": [
    "def Largest_num(Lst):\n",
    "    Num = 0\n",
    "    for i in Lst:\n",
    "        if i > Num:\n",
    "            Num = i\n",
    "    return Num\n",
    "\n",
    "Lst = [4,5,3,7,98,23,45,76]\n",
    "Largest_num(Lst)"
   ]
  },
  {
   "cell_type": "markdown",
   "id": "f703b886",
   "metadata": {},
   "source": [
    "**4. Implement a function to count the occurrence of each element in a list.**"
   ]
  },
  {
   "cell_type": "code",
   "execution_count": 18,
   "id": "f7efc422",
   "metadata": {},
   "outputs": [
    {
     "data": {
      "text/plain": [
       "4"
      ]
     },
     "execution_count": 18,
     "metadata": {},
     "output_type": "execute_result"
    }
   ],
   "source": [
    "def Occurence(Lst,X):\n",
    "    Count = 0\n",
    "    for ele in Lst:\n",
    "        if (ele == X):\n",
    "            Count = Count + 1\n",
    "    return Count\n",
    "\n",
    "Lst = [4,5,4,3,7,4,98,23,45,76,4]\n",
    "Occurence(Lst,4)"
   ]
  },
  {
   "cell_type": "markdown",
   "id": "a36290f3",
   "metadata": {},
   "source": [
    "**5. Write a Python program to find the second largest number in a list.**"
   ]
  },
  {
   "cell_type": "code",
   "execution_count": 41,
   "id": "736dc38f",
   "metadata": {},
   "outputs": [
    {
     "name": "stdout",
     "output_type": "stream",
     "text": [
      "Second largest element is: 76\n"
     ]
    }
   ],
   "source": [
    "Num = [4,53,7,98,23,45,76]\n",
    "Num.sort()\n",
    "print (\"Second largest element is:\", Num[-2])"
   ]
  },
  {
   "cell_type": "markdown",
   "id": "445bb3cf",
   "metadata": {},
   "source": [
    "**6. Implement a function to remove duplicate elements from a list.**"
   ]
  },
  {
   "cell_type": "code",
   "execution_count": 49,
   "id": "97961527",
   "metadata": {},
   "outputs": [
    {
     "name": "stdout",
     "output_type": "stream",
     "text": [
      "The original list is : [1, 5, 3, 6, 3, 5, 6, 1]\n",
      "The New list is : [1, 5, 3, 6]\n"
     ]
    }
   ],
   "source": [
    "List = [1, 5, 3, 6, 3, 5, 6, 1]\n",
    "New_List = []\n",
    "for i in List:\n",
    "    if i not in New_List:\n",
    "        New_List.append(i)\n",
    "        \n",
    "\n",
    "print (f\"The original list is :\",List)    \n",
    "print (f\"The New list is :\",res)"
   ]
  },
  {
   "cell_type": "markdown",
   "id": "8bafe363",
   "metadata": {},
   "source": [
    "**7. Write a program to calculate the factorial of a given number.**"
   ]
  },
  {
   "cell_type": "code",
   "execution_count": 67,
   "id": "bd547f89",
   "metadata": {},
   "outputs": [
    {
     "data": {
      "text/plain": [
       "120"
      ]
     },
     "execution_count": 67,
     "metadata": {},
     "output_type": "execute_result"
    }
   ],
   "source": [
    "def Factorial(num):\n",
    "    if num==1:\n",
    "        return 1\n",
    "    return Factorial(num-1)*num\n",
    "\n",
    "Factorial(5)"
   ]
  },
  {
   "cell_type": "markdown",
   "id": "6c0773a4",
   "metadata": {},
   "source": [
    "**8. Implement a function to check if a given number is prime.**"
   ]
  },
  {
   "cell_type": "code",
   "execution_count": 75,
   "id": "c78f4499",
   "metadata": {},
   "outputs": [
    {
     "name": "stdout",
     "output_type": "stream",
     "text": [
      "enter a number:11\n",
      "11 is a prime number\n"
     ]
    }
   ],
   "source": [
    "num=int(input(\"enter a number:\"))\n",
    "X = 0;\n",
    "i=2;\n",
    "while i<num: \n",
    "    if num % i == 0:\n",
    "        X = 1;\n",
    "        print (\"{} is divible by {} \".format(num,i))\n",
    "    i+=1;\n",
    "if X:\n",
    "    print(\"{} is not a prime number \". format(num))\n",
    "else:\n",
    "    print(\"{} is a prime number\". format(num))   "
   ]
  },
  {
   "cell_type": "markdown",
   "id": "e966dab0",
   "metadata": {},
   "source": [
    "**9. Write a Python program to sort a list of integers in ascending order.**"
   ]
  },
  {
   "cell_type": "code",
   "execution_count": 104,
   "id": "68924513",
   "metadata": {},
   "outputs": [
    {
     "name": "stdout",
     "output_type": "stream",
     "text": [
      "Ascending order list :  [23, 45, 47, 76, 77, 78, 98]\n"
     ]
    }
   ],
   "source": [
    "H = [98,45,78,23,76,47,77]\n",
    "H.sort(reverse = False)\n",
    "print(f\"Ascending order list : \",H)           \n",
    " "
   ]
  },
  {
   "cell_type": "markdown",
   "id": "e8be21ea",
   "metadata": {},
   "source": [
    "**10. Implement a function to find the sum of all numbers in a list.**"
   ]
  },
  {
   "cell_type": "code",
   "execution_count": 103,
   "id": "e10c5bea",
   "metadata": {},
   "outputs": [
    {
     "data": {
      "text/plain": [
       "444"
      ]
     },
     "execution_count": 103,
     "metadata": {},
     "output_type": "execute_result"
    }
   ],
   "source": [
    "def Sum(List):\n",
    "    Sum = 0\n",
    "    for i in List:\n",
    "        Sum = Sum+i\n",
    "    return Sum\n",
    "\n",
    "List= [98,45,78,23,76,47,77]\n",
    "Sum(List)"
   ]
  },
  {
   "cell_type": "markdown",
   "id": "3bd592ac",
   "metadata": {},
   "source": [
    "**11. Write a program to find the common elements between two lists.**"
   ]
  },
  {
   "cell_type": "code",
   "execution_count": 108,
   "id": "aa78d9e4",
   "metadata": {},
   "outputs": [
    {
     "name": "stdout",
     "output_type": "stream",
     "text": [
      "Common Number in both list : [45, 23, 47]\n"
     ]
    }
   ],
   "source": [
    "List_1= [98,45,78,23,76,47,77]\n",
    "List_2 = [100,45,8,23,6,47]\n",
    "def common(List_1,List_2): \n",
    "    Common = [value for value in List_1 if value in List_2] \n",
    "    return Common\n",
    "Res=common(List_1,List_2)\n",
    "print(f\"Common Number in both list :\",Res)"
   ]
  },
  {
   "cell_type": "markdown",
   "id": "3db8acd9",
   "metadata": {},
   "source": [
    "**12. Implement a function to check if a given string is an anagram of another string.**"
   ]
  },
  {
   "cell_type": "code",
   "execution_count": 109,
   "id": "5b2268ec",
   "metadata": {},
   "outputs": [
    {
     "name": "stdout",
     "output_type": "stream",
     "text": [
      "The strings are anagrams.\n"
     ]
    }
   ],
   "source": [
    "def is_anagram(Str_1, Str_2):\n",
    "    if(sorted(Str_1)== sorted(Str_2)):\n",
    "        print(\"The strings are anagrams.\")\n",
    "    else:\n",
    "        print(\"The strings aren't anagrams.\")     \n",
    "        \n",
    "Str_1 =\"meat\"\n",
    "Str_2 =\"team\"\n",
    "is_anagram(Str_1, Str_2)"
   ]
  },
  {
   "cell_type": "markdown",
   "id": "e016a6a8",
   "metadata": {},
   "source": [
    "**13. Write a Python program to generate all permutations of a given string.**"
   ]
  },
  {
   "cell_type": "code",
   "execution_count": 117,
   "id": "be7840df",
   "metadata": {},
   "outputs": [
    {
     "name": "stdout",
     "output_type": "stream",
     "text": [
      "['123', '132', '213', '231', '312', '321']\n"
     ]
    }
   ],
   "source": [
    "def permute(Lst):\n",
    "    result = []\n",
    "    if len(Lst) == 1:\n",
    "        return Lst\n",
    "    else:\n",
    "        for i,j in enumerate(Lst):\n",
    "            for k in permute(Lst[:i] + Lst[i+1:]):\n",
    "                result += [j + k]\n",
    "    return result\n",
    "\n",
    "L = permute([\"1\",\"2\",\"3\"])\n",
    "print(L)"
   ]
  },
  {
   "cell_type": "markdown",
   "id": "6dcd23ea",
   "metadata": {},
   "source": [
    "**14. Implement a function to calculate the Fibonacci sequence up to a given number of terms.**"
   ]
  },
  {
   "cell_type": "code",
   "execution_count": 132,
   "id": "a6c9b94f",
   "metadata": {},
   "outputs": [
    {
     "name": "stdout",
     "output_type": "stream",
     "text": [
      "Fibonacci sequence:\n",
      "0 1 1 2 3 5 8 13 21 "
     ]
    }
   ],
   "source": [
    "def fib(n):\n",
    "    if n <= 1:\n",
    "        return n\n",
    "    else:\n",
    "        return(fib(n-1) + fib(n-2))\n",
    "\n",
    "n = 9\n",
    "if n <= 0:\n",
    "    print(\"Plese enter a positive integer\")\n",
    "else:\n",
    "    print(\"Fibonacci sequence:\")\n",
    "    for i in range(n):\n",
    "        print(fib(i),end = \" \")\n",
    "\n"
   ]
  },
  {
   "cell_type": "markdown",
   "id": "d25de2d6",
   "metadata": {},
   "source": [
    "**15. Write a program to find the median of a list of numbers.**"
   ]
  },
  {
   "cell_type": "code",
   "execution_count": 135,
   "id": "54eea02c",
   "metadata": {},
   "outputs": [
    {
     "name": "stdout",
     "output_type": "stream",
     "text": [
      "Median of list is  : 4.5\n"
     ]
    }
   ],
   "source": [
    "import numpy as np\n",
    "def find_median(Lst):\n",
    "    Median = np.median(Lst)\n",
    "    return Median\n",
    "\n",
    "Lst = [1,2,3,7,8,4,5,45]\n",
    "print (f\"Median of list is  :\",find_median(Lst))"
   ]
  },
  {
   "cell_type": "markdown",
   "id": "193feda5",
   "metadata": {},
   "source": [
    "**16. Implement a function to check if a given list is sorted in non-decreasing order.**"
   ]
  },
  {
   "cell_type": "code",
   "execution_count": 137,
   "id": "c22cb2bb",
   "metadata": {},
   "outputs": [
    {
     "name": "stdout",
     "output_type": "stream",
     "text": [
      "Sorted list in non-decreasing order is : [1, 2, 3, 4, 5, 7, 8, 45]\n"
     ]
    }
   ],
   "source": [
    "Nums = [1,2,3,7,8,4,5,45]\n",
    "Result = sorted(Nums)\n",
    "print(\"Sorted list in non-decreasing order is :\",Result)"
   ]
  },
  {
   "cell_type": "markdown",
   "id": "475404d4",
   "metadata": {},
   "source": [
    "**17. Write a Python program to find the intersection of two lists.**\n"
   ]
  },
  {
   "cell_type": "code",
   "execution_count": 139,
   "id": "f6f95521",
   "metadata": {},
   "outputs": [
    {
     "name": "stdout",
     "output_type": "stream",
     "text": [
      "Intersection of two lists is : [20, 5, 7]\n"
     ]
    }
   ],
   "source": [
    "def Intersection(L1,L2):\n",
    "    return list(set(L1) & set(L2))\n",
    "L1 = [2,5,7,9,20,30,31]\n",
    "L2 = [5,6,7,20,41,64,76]\n",
    "\n",
    "Result = Intersection(L1,L2)\n",
    "print(\"Intersection of two lists is :\",Result)"
   ]
  },
  {
   "cell_type": "markdown",
   "id": "44ed81e9",
   "metadata": {},
   "source": [
    "**18. Implement a function to find the maximum subarray sum in a given list.**"
   ]
  },
  {
   "cell_type": "code",
   "execution_count": null,
   "id": "2678133a",
   "metadata": {},
   "outputs": [],
   "source": []
  },
  {
   "cell_type": "markdown",
   "id": "832651a3",
   "metadata": {},
   "source": [
    "**19. Write a program to remove all vowels from a given string.**"
   ]
  },
  {
   "cell_type": "code",
   "execution_count": 141,
   "id": "4ccf4721",
   "metadata": {},
   "outputs": [
    {
     "name": "stdout",
     "output_type": "stream",
     "text": [
      "\n",
      "After removing Vowels:  ShlshKmrYdv\n"
     ]
    }
   ],
   "source": [
    "String = \"ShaileshKumarYadav\"\n",
    "\n",
    "vowels = ['a', 'e', 'i', 'o', 'u', 'A', 'E', 'I', 'O', 'U']\n",
    "result = \"\"\n",
    "\n",
    "for i in range(len(String)):\n",
    "    if String[i] not in vowels:\n",
    "        result = result + String[i]\n",
    "\n",
    "print(\"\\nAfter removing Vowels: \", result)"
   ]
  },
  {
   "cell_type": "markdown",
   "id": "7d5cb570",
   "metadata": {},
   "source": [
    "**20. Implement a function to reverse the order of words in a given sentence.**"
   ]
  },
  {
   "cell_type": "code",
   "execution_count": 146,
   "id": "c54b9071",
   "metadata": {},
   "outputs": [
    {
     "name": "stdout",
     "output_type": "stream",
     "text": [
      "\n",
      "After reversing string:  vadaYramuKhseliahS\n"
     ]
    }
   ],
   "source": [
    "def string_reverse(String):\n",
    "    rstr1 = ''\n",
    "    index = len(String)\n",
    "    while index > 0:\n",
    "        rstr1 += String[ index - 1 ]\n",
    "        index = index - 1\n",
    "    return rstr1\n",
    "\n",
    "String = \"ShaileshKumarYadav\"\n",
    "print(\"\\nAfter reversing string: \",string_reverse(String))"
   ]
  },
  {
   "cell_type": "markdown",
   "id": "6968503e",
   "metadata": {},
   "source": [
    "**21. Write a Python program to check if two strings are anagrams of each other.**"
   ]
  },
  {
   "cell_type": "code",
   "execution_count": 153,
   "id": "e710a08c",
   "metadata": {},
   "outputs": [
    {
     "name": "stdout",
     "output_type": "stream",
     "text": [
      "The strings are anagrams.\n"
     ]
    }
   ],
   "source": [
    "def isAnagram(Str1,Str2):\n",
    "    Str1 = sorted(Str1.lower())\n",
    "    Str2 = sorted(Str2.lower())\n",
    "    if (Str1 == Str2) :\n",
    "        return \"The strings are anagrams.\"\n",
    "    else:\n",
    "        return \"The strings are not anagrams.\"\n",
    "\n",
    "\n",
    "\n",
    "Str1 = \"Meat\"\n",
    "Str2 = \"Team\"\n",
    "print(isAnagram(Str1,Str2))"
   ]
  },
  {
   "cell_type": "markdown",
   "id": "5a1f4843",
   "metadata": {},
   "source": [
    "**22. Implement a function to find the first non-repeating character in a string.**"
   ]
  },
  {
   "cell_type": "code",
   "execution_count": 193,
   "id": "1369387a",
   "metadata": {},
   "outputs": [
    {
     "name": "stdout",
     "output_type": "stream",
     "text": [
      "Counter({'h': 2, 'S': 1, 'a': 1, 'i': 1, 'l': 1, 'e': 1, 's': 1})\n",
      "First non-repeating character is  a\n"
     ]
    }
   ],
   "source": [
    "from collections import Counter\n",
    "def non_repeating_character (A):\n",
    "    B=Counter(A)\n",
    "    for i in A:\n",
    "        if (B[i]==1):\n",
    "            print(\"First non-repeating character is \", i)\n",
    "            break\n",
    "\n",
    "print(B)\n",
    "\n",
    "A = \"shailesh\"\n",
    "non_repeating_character (A)\n"
   ]
  },
  {
   "cell_type": "markdown",
   "id": "f5a158a8",
   "metadata": {},
   "source": [
    "**23. Write a program to find the prime factors of a given number.**"
   ]
  },
  {
   "cell_type": "code",
   "execution_count": 194,
   "id": "18170126",
   "metadata": {},
   "outputs": [
    {
     "name": "stdout",
     "output_type": "stream",
     "text": [
      "Enter an integer:22\n",
      "Factors are:\n",
      "2\n",
      "11\n"
     ]
    }
   ],
   "source": [
    "n=int(input(\"Enter an integer:\"))\n",
    "print(\"Factors are:\")\n",
    "i=1\n",
    "while(i<=n):\n",
    "    k=0\n",
    "    if(n%i==0):\n",
    "        j=1\n",
    "        while(j<=i):\n",
    "            if(i%j==0):\n",
    "                k=k+1\n",
    "            j=j+1\n",
    "        if(k==2):\n",
    "            print(i)\n",
    "    i=i+1"
   ]
  },
  {
   "cell_type": "markdown",
   "id": "c2f8e932",
   "metadata": {},
   "source": [
    "**24. Implement a function to check if a given number is a power of two.**"
   ]
  },
  {
   "cell_type": "code",
   "execution_count": 199,
   "id": "8bbf98b9",
   "metadata": {},
   "outputs": [
    {
     "data": {
      "text/plain": [
       "False"
      ]
     },
     "execution_count": 199,
     "metadata": {},
     "output_type": "execute_result"
    }
   ],
   "source": [
    "def powerof2(n):\n",
    "    if n == 1:\n",
    "        return True\n",
    "    elif n % 2 != 0 or n == 0:\n",
    "        return False\n",
    "    return powerof2(n/2)\n",
    "\n",
    "\n",
    "powerof2(36)"
   ]
  },
  {
   "cell_type": "markdown",
   "id": "dc11f127",
   "metadata": {},
   "source": [
    "**25. Write a Python program to merge two sorted lists into a single sorted list.**"
   ]
  },
  {
   "cell_type": "code",
   "execution_count": 208,
   "id": "3e85b3b8",
   "metadata": {},
   "outputs": [
    {
     "name": "stdout",
     "output_type": "stream",
     "text": [
      "[2, 5, 5, 6, 7, 9, 17, 20, 30, 31, 40, 41, 64, 76]\n"
     ]
    }
   ],
   "source": [
    "L1 = [2,5,17,9,40,30,31]\n",
    "L2 = [5,6,7,20,41,64,76]\n",
    "Sorted_L1 = sorted(L1)\n",
    "Sorted_L2 = sorted(L2)\n",
    "Single_sorted_list = sorted(Sorted_L1 + Sorted_L2)\n",
    "print(Single_sorted_list)"
   ]
  },
  {
   "cell_type": "markdown",
   "id": "4e91beeb",
   "metadata": {},
   "source": [
    "**26. Implement a function to find the mode of a list of numbers**"
   ]
  },
  {
   "cell_type": "code",
   "execution_count": 210,
   "id": "31ae0c41",
   "metadata": {},
   "outputs": [
    {
     "name": "stdout",
     "output_type": "stream",
     "text": [
      "Mode of list of numbers :  [5, 9, 30, 44]\n"
     ]
    }
   ],
   "source": [
    "import statistics\n",
    "def Find_mode(Lst):\n",
    "    Mode = statistics.multimode(Lst)\n",
    "    return(Mode)\n",
    "\n",
    "Lst = [2, 5, 5, 6, 7, 9, 17, 9, 30, 30, 44, 44, 64, 76]\n",
    "Result = Find_mode(Lst)\n",
    "\n",
    "print(\"Mode of list of numbers : \",Result)"
   ]
  },
  {
   "cell_type": "markdown",
   "id": "ca99069b",
   "metadata": {},
   "source": [
    "**27. Write a program to find the greatest common divisor (GCD) of two numbers.**"
   ]
  },
  {
   "cell_type": "code",
   "execution_count": 217,
   "id": "3e0f091a",
   "metadata": {},
   "outputs": [
    {
     "name": "stdout",
     "output_type": "stream",
     "text": [
      "GCD of 98 and 56 is 14\n"
     ]
    }
   ],
   "source": [
    "def gcd(a,b):\n",
    "    if (b == 0):\n",
    "        return a\n",
    "    return gcd(b, a%b)\n",
    "print('GCD of', a, 'and', b, 'is', gcd(a, b))\n",
    "\n",
    "a = 98\n",
    "b = 56"
   ]
  },
  {
   "cell_type": "markdown",
   "id": "bdc811d0",
   "metadata": {},
   "source": [
    "**28. Implement a function to calculate the square root of a given number.**"
   ]
  },
  {
   "cell_type": "code",
   "execution_count": 218,
   "id": "f6a759da",
   "metadata": {},
   "outputs": [
    {
     "name": "stdout",
     "output_type": "stream",
     "text": [
      "The square root of a given number :  4.58257569495584\n"
     ]
    }
   ],
   "source": [
    "def cal_Sqrt(X):\n",
    "    return X**0.5\n",
    "\n",
    "X = 21\n",
    "Result = cal_Sqrt(X)\n",
    "print(\"The square root of a given number : \",Result)"
   ]
  },
  {
   "cell_type": "markdown",
   "id": "0200cae0",
   "metadata": {},
   "source": [
    "**29. Write a Python program to check if a given string is a valid palindrome ignoring non-alphanumeric characters.**"
   ]
  },
  {
   "cell_type": "code",
   "execution_count": 219,
   "id": "b8880f1d",
   "metadata": {},
   "outputs": [
    {
     "name": "stdout",
     "output_type": "stream",
     "text": [
      "String is Palindrome\n"
     ]
    }
   ],
   "source": [
    "def Palindrome(Name):\n",
    "    if Name==Name[::-1]:\n",
    "        print(\"String is Palindrome\")\n",
    "    else:\n",
    "        return \"String is not a Palindrome\"\n",
    "\n",
    "Name = \"MOM\"\n",
    "Palindrome(Name)"
   ]
  },
  {
   "cell_type": "markdown",
   "id": "56bec769",
   "metadata": {},
   "source": [
    "**30. Implement a function to find the minimum element in a rotated sorted list.**"
   ]
  },
  {
   "cell_type": "code",
   "execution_count": 220,
   "id": "dc9ad395",
   "metadata": {},
   "outputs": [
    {
     "name": "stdout",
     "output_type": "stream",
     "text": [
      "The minimum element in a rotated sorted list :  2\n"
     ]
    }
   ],
   "source": [
    "def find_min_number(Lst):\n",
    "    Minimum_number = min(Lst)\n",
    "    return Minimum_number\n",
    "\n",
    "Lst = [2, 5, 5, 6, 7, 9, 17, 9, 30, 30, 44, 44, 64, 76]\n",
    "Result = find_min_number(Lst)\n",
    "print(\"The minimum element in a rotated sorted list : \",Result)"
   ]
  },
  {
   "cell_type": "markdown",
   "id": "9905f62e",
   "metadata": {},
   "source": [
    "**31. Write a program to find the sum of all even numbers in a list.**"
   ]
  },
  {
   "cell_type": "code",
   "execution_count": 221,
   "id": "399b94f1",
   "metadata": {},
   "outputs": [
    {
     "name": "stdout",
     "output_type": "stream",
     "text": [
      "The sum of all even numbers in a list :  296\n"
     ]
    }
   ],
   "source": [
    "def Sum_even_numbers(Lst):\n",
    "    Sum = 0\n",
    "    for i in Lst:\n",
    "        if i%2==0:\n",
    "            Sum = Sum+i\n",
    "    return Sum\n",
    "\n",
    "Lst = [2, 5, 5, 6, 7, 9, 17, 9, 30, 30, 44, 44, 64, 76]\n",
    "Result = Sum_even_numbers(Lst)\n",
    "print(\"The sum of all even numbers in a list : \",Result)"
   ]
  },
  {
   "cell_type": "markdown",
   "id": "907320ed",
   "metadata": {},
   "source": [
    "**32. Implement a function to calculate the power of a number using recursion.**"
   ]
  },
  {
   "cell_type": "code",
   "execution_count": 222,
   "id": "4a260f25",
   "metadata": {},
   "outputs": [
    {
     "name": "stdout",
     "output_type": "stream",
     "text": [
      "2 to the power 3 is 8\n"
     ]
    }
   ],
   "source": [
    "def power(a, b):\n",
    "    if b != 0:\n",
    "        return a * power(a, b - 1)\n",
    "    else:\n",
    "        return 1\n",
    "\n",
    "\n",
    "a = 2\n",
    "b = 3\n",
    "print(a, \"to the power\", b, \"is\", power(a, b))"
   ]
  },
  {
   "cell_type": "markdown",
   "id": "88cca8dc",
   "metadata": {},
   "source": [
    "**33. Write a Python program to remove duplicates from a list while preserving the order.**"
   ]
  },
  {
   "cell_type": "code",
   "execution_count": 223,
   "id": "a53e2066",
   "metadata": {},
   "outputs": [
    {
     "data": {
      "text/plain": [
       "[1, 2, 0, 3]"
      ]
     },
     "execution_count": 223,
     "metadata": {},
     "output_type": "execute_result"
    }
   ],
   "source": [
    "items = [1, 2, 0, 1, 3, 2]\n",
    "list(dict.fromkeys(items))"
   ]
  },
  {
   "cell_type": "markdown",
   "id": "1dda1f7e",
   "metadata": {},
   "source": [
    "**34. Implement a function to find the longest common prefix among a list of strings.**"
   ]
  },
  {
   "cell_type": "markdown",
   "id": "b707edd1",
   "metadata": {},
   "source": [
    "**35. Write a program to check if a given number is a perfect square.** "
   ]
  },
  {
   "cell_type": "code",
   "execution_count": 228,
   "id": "675ea973",
   "metadata": {},
   "outputs": [
    {
     "name": "stdout",
     "output_type": "stream",
     "text": [
      "Yes, Given nuber is a perfect sqaure\n"
     ]
    }
   ],
   "source": [
    "n = 2500\n",
    "for i in range (n+1):\n",
    "    if i**2 == n:\n",
    "        print(\"Yes, Given nuber is a perfect sqaure\")\n",
    "        break     \n",
    "else:\n",
    "    print(\"No, Given nuber is not a perfect sqaure\")     "
   ]
  },
  {
   "cell_type": "markdown",
   "id": "56dac5d5",
   "metadata": {},
   "source": [
    "**36. Implement a function to calculate the product of all elements in a list.**"
   ]
  },
  {
   "cell_type": "code",
   "execution_count": 230,
   "id": "77626638",
   "metadata": {},
   "outputs": [
    {
     "data": {
      "text/plain": [
       "120"
      ]
     },
     "execution_count": 230,
     "metadata": {},
     "output_type": "execute_result"
    }
   ],
   "source": [
    "def product(X):\n",
    "    total = 1\n",
    "    for Y in X :\n",
    "        total*=Y\n",
    "    return total\n",
    "X = [1,2,3,4,5]\n",
    "product(X)"
   ]
  },
  {
   "cell_type": "markdown",
   "id": "510b15e6",
   "metadata": {},
   "source": [
    "**37. Write a Python program to reverse the order of words in a sentence while preserving the word order.**"
   ]
  },
  {
   "cell_type": "code",
   "execution_count": 232,
   "id": "5ba5a738",
   "metadata": {},
   "outputs": [
    {
     "name": "stdout",
     "output_type": "stream",
     "text": [
      "New_reversed_name : noruenI fo tneduts a si HSELIAHS\n"
     ]
    }
   ],
   "source": [
    "Name = \"SHAILESH is a student of Ineuron\"\n",
    "Name_New =(Name[::-1])\n",
    "print(f\"New_reversed_name :\",Name_New)"
   ]
  },
  {
   "cell_type": "markdown",
   "id": "83574ca1",
   "metadata": {},
   "source": [
    "**38. Implement a function to find the missing number in a given list of consecutive numbers.**"
   ]
  },
  {
   "cell_type": "code",
   "execution_count": 236,
   "id": "145fc241",
   "metadata": {},
   "outputs": [
    {
     "name": "stdout",
     "output_type": "stream",
     "text": [
      "Missing number in a given list: 4.0\n"
     ]
    }
   ],
   "source": [
    "def Missing_value(Lst):\n",
    "    Sorted_Lst = sorted(Lst)\n",
    "    N = len(Lst)+1\n",
    "    Expected_sum = N*(N+1)/2\n",
    "    Actual_sum = sum(Lst)\n",
    "    Missing_Value =Expected_sum-Actual_sum\n",
    "    return Missing_Value\n",
    "Lst = [1,2,3,5,6,7]\n",
    "Result = Missing_value(Lst)\n",
    "print(f\"Missing number in a given list:\",Result)\n"
   ]
  },
  {
   "cell_type": "markdown",
   "id": "ea16f055",
   "metadata": {},
   "source": [
    "**39. Write a program to find the sum of digits of a given number.**"
   ]
  },
  {
   "cell_type": "code",
   "execution_count": 238,
   "id": "112770bf",
   "metadata": {},
   "outputs": [
    {
     "name": "stdout",
     "output_type": "stream",
     "text": [
      "Sum of digits in 12345 is 15\n"
     ]
    }
   ],
   "source": [
    "def sum_of_digit( n ):\n",
    "    if n == 0:\n",
    "        return 0\n",
    "    return (n % 10 + sum_of_digit(int(n / 10)))\n",
    "\n",
    "n = 12345\n",
    "result = sum_of_digit(n)\n",
    "print(\"Sum of digits in\",n,\"is\", result)"
   ]
  },
  {
   "cell_type": "markdown",
   "id": "fc5e092d",
   "metadata": {},
   "source": [
    "**40. Implement a function to check if a given string is a valid palindrome considering case sensitivity.**\n"
   ]
  },
  {
   "cell_type": "markdown",
   "id": "ea7b8aa0",
   "metadata": {},
   "source": [
    "**41. Write a Python program to find the smallest missing positive integer in a list.**"
   ]
  },
  {
   "cell_type": "markdown",
   "id": "915fa6d3",
   "metadata": {},
   "source": [
    "**42. Implement a function to find the longest palindrome substring in a given string.**"
   ]
  },
  {
   "cell_type": "markdown",
   "id": "ca3c3aa3",
   "metadata": {},
   "source": [
    "**43. Write a program to find the number of occurrences of a given element in a list.**"
   ]
  },
  {
   "cell_type": "code",
   "execution_count": 251,
   "id": "6ce446a5",
   "metadata": {},
   "outputs": [
    {
     "data": {
      "text/plain": [
       "3"
      ]
     },
     "execution_count": 251,
     "metadata": {},
     "output_type": "execute_result"
    }
   ],
   "source": [
    "Mylist = [2,4,5,6,3,2,5,6,8,4,5]\n",
    "Mylist.count(5)"
   ]
  },
  {
   "cell_type": "markdown",
   "id": "a7936521",
   "metadata": {},
   "source": [
    "**44. Implement a function to check if a given number is a perfect number.**"
   ]
  },
  {
   "cell_type": "code",
   "execution_count": 256,
   "id": "62954259",
   "metadata": {},
   "outputs": [
    {
     "name": "stdout",
     "output_type": "stream",
     "text": [
      "Given number is a perfect number :  False\n"
     ]
    }
   ],
   "source": [
    "def isperfectnumber(Num):\n",
    "    Sum = 0\n",
    "    for i in range (1,Num//2+1):\n",
    "        if Num%i==0:\n",
    "            Sum = Sum+i\n",
    "    return Sum==Num\n",
    "Num = 9\n",
    "Result = isperfectnumber(Num)\n",
    "print(\"Given number is a perfect number : \", Result)"
   ]
  },
  {
   "cell_type": "markdown",
   "id": "8d928413",
   "metadata": {},
   "source": [
    "**45. Write a Python program to remove all duplicates from a string.**"
   ]
  },
  {
   "cell_type": "code",
   "execution_count": 260,
   "id": "111cd292",
   "metadata": {},
   "outputs": [
    {
     "name": "stdout",
     "output_type": "stream",
     "text": [
      "After removing duplicates from a string :  HiShalesYdv\n"
     ]
    }
   ],
   "source": [
    "def Remove_duplicate(Str):\n",
    "    New_Str = []\n",
    "    for i in Str:\n",
    "        if i not in New_Str:\n",
    "            New_Str.append(i)\n",
    "        \n",
    "    return \"\".join (New_Str)\n",
    "        \n",
    "Str = \" Hi Shailesh Yadav\" \n",
    "print (f\"After removing duplicates from a string :\",Remove_duplicate(Str))"
   ]
  },
  {
   "cell_type": "markdown",
   "id": "ff2581fc",
   "metadata": {},
   "source": [
    "**46. Implement a function to find the first missing positive.**"
   ]
  },
  {
   "cell_type": "code",
   "execution_count": null,
   "id": "0af15b10",
   "metadata": {},
   "outputs": [],
   "source": []
  }
 ],
 "metadata": {
  "kernelspec": {
   "display_name": "Python 3 (ipykernel)",
   "language": "python",
   "name": "python3"
  },
  "language_info": {
   "codemirror_mode": {
    "name": "ipython",
    "version": 3
   },
   "file_extension": ".py",
   "mimetype": "text/x-python",
   "name": "python",
   "nbconvert_exporter": "python",
   "pygments_lexer": "ipython3",
   "version": "3.9.7"
  }
 },
 "nbformat": 4,
 "nbformat_minor": 5
}
