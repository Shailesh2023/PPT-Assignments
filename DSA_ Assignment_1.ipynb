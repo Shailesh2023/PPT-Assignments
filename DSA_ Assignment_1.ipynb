{
 "cells": [
  {
   "cell_type": "markdown",
   "id": "d3bac97c-8155-455e-a202-71e0a8a8301d",
   "metadata": {},
   "source": [
    "**Q1.** Given an array of integers nums and an integer target, return indices of the two numbers such that they add up to target.\n",
    "\n",
    "You may assume that each input would have exactly one solution, and you may not use the same element twice.\n",
    "\n",
    "You can return the answer in any order.\n",
    "\n",
    "**Example:**\n",
    "Input: nums = [2,7,11,15], target = 9\n",
    "Output0 [0,1]\n",
    "\n",
    "**Explanation:** Because nums[0] + nums[1] == 9, we return [0, 1][\n"
   ]
  },
  {
   "cell_type": "code",
   "execution_count": 1,
   "id": "89afc780-2faf-41f8-b76f-4cca6d96b956",
   "metadata": {},
   "outputs": [],
   "source": [
    "class Solution:\n",
    "    def twoSum(self,nums,target):\n",
    "        nums_copy=nums\n",
    "        nums=sorted(nums)\n",
    "        res=[]\n",
    "        l=0\n",
    "        h=len(nums)-1\n",
    "        while l < h:\n",
    "            sum=nums[l]+nums[h]\n",
    "            if sum>target:\n",
    "                h-=1\n",
    "            elif sum<target:\n",
    "                l+=1\n",
    "            else:\n",
    "                res.append([nums_copy.index(nums[l]),nums_copy.index(nums[h])])\n",
    "                \n",
    "                h-=1\n",
    "                l+=1\n",
    "        return res\n",
    "                \n",
    "                    \n",
    "            "
   ]
  },
  {
   "cell_type": "code",
   "execution_count": 2,
   "id": "efa7b857-3e0d-4a79-b051-ca40a69923c4",
   "metadata": {},
   "outputs": [],
   "source": [
    "Obj=Solution()"
   ]
  },
  {
   "cell_type": "code",
   "execution_count": 3,
   "id": "7c020860-3d30-43b5-bbaa-72de210d6aef",
   "metadata": {},
   "outputs": [
    {
     "data": {
      "text/plain": [
       "[[0, 1], [4, 5]]"
      ]
     },
     "execution_count": 3,
     "metadata": {},
     "output_type": "execute_result"
    }
   ],
   "source": [
    "Obj.twoSum([2,7,11,15,3,6],9)"
   ]
  },
  {
   "cell_type": "markdown",
   "id": "d360963f-4ce6-4b39-ba31-454b55bad754",
   "metadata": {},
   "source": [
    "**Q2.** Given an integer array nums and an integer val, remove all occurrences of val in nums in-place. The order of the elements may be changed. Then return the number of elements in nums which are not equal to val.\n",
    "\n",
    "Consider the number of elements in nums which are not equal to val be k, to get accepted, you need to do the following things:\n",
    "\n",
    "- Change the array nums such that the first k elements of nums contain the elements which are not equal to val. The remaining elements of nums are not important as well as the size of nums.\n",
    "- Return k.\n",
    "\n",
    "**Example :**\n",
    "Input: nums = [3,2,2,3], val = 3\n",
    "Output: 2, nums = [2,2,_*,_*]\n",
    "\n",
    "**Explanation:** Your function should return k = 2, with the first two elements of nums being 2. It does not matter what you leave beyond the returned k (hence they are underscores)[\n",
    "\n"
   ]
  },
  {
   "cell_type": "code",
   "execution_count": 4,
   "id": "82eec6f0-a214-4690-966f-acc8e423544f",
   "metadata": {},
   "outputs": [],
   "source": [
    "class Solution:\n",
    "    def remove_val ( self, nums , val):\n",
    "        for i in nums:\n",
    "            if i==val:\n",
    "                nums.remove(i)\n",
    "        return nums\n",
    "        "
   ]
  },
  {
   "cell_type": "code",
   "execution_count": 5,
   "id": "75ae9d46-32a0-4604-9d15-3eaa156e0d27",
   "metadata": {},
   "outputs": [],
   "source": [
    "Obj=Solution()"
   ]
  },
  {
   "cell_type": "code",
   "execution_count": 6,
   "id": "0c0dd076-2432-47cf-bae4-7be51880502b",
   "metadata": {},
   "outputs": [
    {
     "data": {
      "text/plain": [
       "[2, 2]"
      ]
     },
     "execution_count": 6,
     "metadata": {},
     "output_type": "execute_result"
    }
   ],
   "source": [
    "Obj.remove_val([3,2,2,3],3)"
   ]
  },
  {
   "cell_type": "markdown",
   "id": "ef63d728-e06a-4591-a737-d749dd8c6d85",
   "metadata": {},
   "source": [
    "**Q3.** Given a sorted array of distinct integers and a target value, return the index if the target is found. If not, return the index where it would be if it were inserted in order.\n",
    "\n",
    "You must write an algorithm with O(log n) runtime complexity.\n",
    "\n",
    "**Example 1:**\n",
    "Input: nums = [1,3,5,6], target = 5\n",
    "\n",
    "Output: 2\n"
   ]
  },
  {
   "cell_type": "code",
   "execution_count": 7,
   "id": "95289da0-c81b-4d38-8ee2-4bcd0fc806cb",
   "metadata": {},
   "outputs": [],
   "source": [
    "class Solution:\n",
    "    def findIndex(self,nums,target):\n",
    "        l=0\n",
    "        h=len(nums)-1\n",
    "        while l <h:\n",
    "            m=l+h//2\n",
    "            if nums[m]==target:\n",
    "                return m\n",
    "            elif nums[m] < target:\n",
    "                l=m+1\n",
    "            elif nums[m] > target:\n",
    "                h=m-1\n",
    "        else:\n",
    "            return l"
   ]
  },
  {
   "cell_type": "code",
   "execution_count": 8,
   "id": "07307f46-2543-4ecf-9330-7929f0669c3c",
   "metadata": {},
   "outputs": [],
   "source": [
    "Obj=Solution()"
   ]
  },
  {
   "cell_type": "code",
   "execution_count": 9,
   "id": "9dc51bd7-5e44-4d27-b4fe-a9354da6b85d",
   "metadata": {},
   "outputs": [
    {
     "data": {
      "text/plain": [
       "4"
      ]
     },
     "execution_count": 9,
     "metadata": {},
     "output_type": "execute_result"
    }
   ],
   "source": [
    "Obj.findIndex([1,3,5,6],7)"
   ]
  },
  {
   "cell_type": "markdown",
   "id": "72aa9db8-5ebd-4018-b983-ea75ade63ff7",
   "metadata": {},
   "source": [
    "**Q4.** You are given a large integer represented as an integer array digits, where each digits[i] is the ith digit of the integer. The digits are ordered from most significant to least significant in left-to-right order. The large integer does not contain any leading 0's.\n",
    "\n",
    "Increment the large integer by one and return the resulting array of digits.\n",
    "\n",
    "**Example 1:**\n",
    "Input: digits = [1,2,3]\n",
    "Output: [1,2,4]\n",
    "\n",
    "**Explanation:** The array represents the integer 123.\n",
    "\n",
    "Incrementing by one gives 123 + 1 = 124.\n",
    "Thus, the result should be [1,2,4].\n"
   ]
  },
  {
   "cell_type": "code",
   "execution_count": 10,
   "id": "5e3b77bc-0b74-4c10-b015-ec0e4bd0fefb",
   "metadata": {},
   "outputs": [],
   "source": [
    "class Solution:\n",
    "    def AddOne(self, nums):\n",
    "        n=len(nums)-1\n",
    "        for i in range ( n,-1,-1):\n",
    "            \n",
    "            if (nums[i]<9):\n",
    "                nums[i]+=1\n",
    "                return nums\n",
    "            else:\n",
    "                nums[i]=0\n",
    "        return [1]+nums\n",
    "            "
   ]
  },
  {
   "cell_type": "code",
   "execution_count": 11,
   "id": "8da1337d-33f1-4895-853e-3d8333cb702a",
   "metadata": {},
   "outputs": [],
   "source": [
    "Obj=Solution()"
   ]
  },
  {
   "cell_type": "code",
   "execution_count": 12,
   "id": "9d4e2e55-b2c9-41ca-ad61-0368596f5727",
   "metadata": {},
   "outputs": [
    {
     "data": {
      "text/plain": [
       "[1, 0, 0, 0]"
      ]
     },
     "execution_count": 12,
     "metadata": {},
     "output_type": "execute_result"
    }
   ],
   "source": [
    "Obj.AddOne([9,9,9])"
   ]
  },
  {
   "cell_type": "markdown",
   "id": "b71a9713-2931-4154-91a6-1364c885d5ee",
   "metadata": {},
   "source": [
    "**Q5.** You are given two integer arrays nums1 and nums2, sorted in non-decreasing order, and two integers m and n, representing the number of elements in nums1 and nums2 respectively.\n",
    "\n",
    "Merge nums1 and nums2 into a single array sorted in non-decreasing order.\n",
    "\n",
    "The final sorted array should not be returned by the function, but instead be stored inside the array nums1. To accommodate this, nums1 has a length of m + n, where the first m elements denote the elements that should be merged, and the last n elements are set to 0 and should be ignored. nums2 has a length of n.\n",
    "\n",
    "**Example 1:**\n",
    "Input: nums1 = [1,2,3,0,0,0], m = 3, nums2 = [2,5,6], n = 3\n",
    "Output: [1,2,2,3,5,6]\n",
    "\n",
    "**Explanation:** The arrays we are merging are [1,2,3] and [2,5,6].\n",
    "The result of the merge is [1,2,2,3,5,6] with the underlined elements coming from nums1.\n",
    "\n"
   ]
  },
  {
   "cell_type": "code",
   "execution_count": null,
   "id": "75f215d9",
   "metadata": {},
   "outputs": [],
   "source": []
  },
  {
   "cell_type": "markdown",
   "id": "6562be3b-1cca-4695-b6d6-c800dd530d8e",
   "metadata": {},
   "source": [
    "**Q6.** Given an integer array nums, return true if any value appears at least twice in the array, and return false if every element is distinct.\n",
    "\n",
    "**Example 1:**\n",
    "Input: nums = [1,2,3,1]\n",
    "\n",
    "Output: true\n"
   ]
  },
  {
   "cell_type": "code",
   "execution_count": 13,
   "id": "b96b395a-01de-47a4-9a7c-7fd84f66d043",
   "metadata": {},
   "outputs": [],
   "source": [
    "def Duplicates(nums):\n",
    "    seen=set()\n",
    "    for num in nums:\n",
    "        if num in seen:\n",
    "            return True\n",
    "        seen.add(num)\n",
    "    return False"
   ]
  },
  {
   "cell_type": "code",
   "execution_count": 14,
   "id": "427b2b4d-ef8f-4617-8417-29586c881f98",
   "metadata": {},
   "outputs": [
    {
     "data": {
      "text/plain": [
       "True"
      ]
     },
     "execution_count": 14,
     "metadata": {},
     "output_type": "execute_result"
    }
   ],
   "source": [
    "Duplicates([1,2,3,1])"
   ]
  },
  {
   "cell_type": "code",
   "execution_count": 15,
   "id": "a22f7dff-043d-4146-8d97-c9b1e165caf4",
   "metadata": {},
   "outputs": [
    {
     "data": {
      "text/plain": [
       "False"
      ]
     },
     "execution_count": 15,
     "metadata": {},
     "output_type": "execute_result"
    }
   ],
   "source": [
    "Duplicates([1,2,3])"
   ]
  },
  {
   "cell_type": "markdown",
   "id": "3f8abdf7-c9ac-4671-8fe2-8f0627512b45",
   "metadata": {},
   "source": [
    "**Q7.** Given an integer array nums, move all 0's to the end of it while maintaining the relative order of the nonzero elements.\n",
    "\n",
    "Note that you must do this in-place without making a copy of the array.\n",
    "\n",
    "**Example 1:**\n",
    "Input: nums = [0,1,0,3,12]\n",
    "Output: [1,3,12,0,0]\n"
   ]
  },
  {
   "cell_type": "code",
   "execution_count": 16,
   "id": "a2d060cf-5457-49cf-8ba1-0c7229622f8d",
   "metadata": {},
   "outputs": [],
   "source": [
    "def moveZeroes(nums):\n",
    "    l=0\n",
    "    for i in range(len(nums)):\n",
    "        if nums[i] !=0:\n",
    "            nums[i],nums[l]=nums[l],nums[i]\n",
    "            l+=1\n",
    "    return nums\n",
    "            "
   ]
  },
  {
   "cell_type": "code",
   "execution_count": 17,
   "id": "643acbeb-e316-4676-b266-989afd35fee8",
   "metadata": {},
   "outputs": [
    {
     "data": {
      "text/plain": [
       "[1, 3, 12, 0, 0]"
      ]
     },
     "execution_count": 17,
     "metadata": {},
     "output_type": "execute_result"
    }
   ],
   "source": [
    "nums = [0, 1, 0, 3, 12]\n",
    "moveZeroes(nums)"
   ]
  },
  {
   "cell_type": "markdown",
   "id": "5263256c-78c0-4dcc-b257-9608f4c3c079",
   "metadata": {},
   "source": [
    "**Q8.** You have a set of integers s, which originally contains all the numbers from 1 to n. Unfortunately, due to some error, one of the numbers in s got duplicated to another number in the set, which results in repetition of one number and loss of another number.\n",
    "\n",
    "You are given an integer array nums representing the data status of this set after the error.\n",
    "\n",
    "Find the number that occurs twice and the number that is missing and return them in the form of an array.\n",
    "\n",
    "**Example 1:**\n",
    "Input: nums = [1,2,2,4]\n",
    "Output: [2,3]\n"
   ]
  },
  {
   "cell_type": "code",
   "execution_count": 18,
   "id": "51e2f909-7efc-4035-ad54-3fe28e6e81eb",
   "metadata": {},
   "outputs": [],
   "source": [
    "def DuplicatesMissing(nums):\n",
    "    seen=set()\n",
    "    l=len(nums)\n",
    "    res=[]\n",
    "    for num in nums:\n",
    "        if num in seen:\n",
    "            res.append(num)\n",
    "        seen.add(num)\n",
    "    for i in range(1,l+1):\n",
    "        if i not in seen:\n",
    "            res.append(i)\n",
    "    return res"
   ]
  },
  {
   "cell_type": "code",
   "execution_count": 19,
   "id": "480420b0-e58f-4d6d-b120-2635fa9ec2c0",
   "metadata": {},
   "outputs": [],
   "source": [
    "nums = [1,2,2,4]"
   ]
  },
  {
   "cell_type": "code",
   "execution_count": 20,
   "id": "d5d8c34a-e0f0-41b3-b599-89ca715ffec3",
   "metadata": {},
   "outputs": [
    {
     "data": {
      "text/plain": [
       "[2, 3]"
      ]
     },
     "execution_count": 20,
     "metadata": {},
     "output_type": "execute_result"
    }
   ],
   "source": [
    "DuplicatesMissing(nums)"
   ]
  }
 ],
 "metadata": {
  "kernelspec": {
   "display_name": "Python 3 (ipykernel)",
   "language": "python",
   "name": "python3"
  },
  "language_info": {
   "codemirror_mode": {
    "name": "ipython",
    "version": 3
   },
   "file_extension": ".py",
   "mimetype": "text/x-python",
   "name": "python",
   "nbconvert_exporter": "python",
   "pygments_lexer": "ipython3",
   "version": "3.9.7"
  }
 },
 "nbformat": 4,
 "nbformat_minor": 5
}
