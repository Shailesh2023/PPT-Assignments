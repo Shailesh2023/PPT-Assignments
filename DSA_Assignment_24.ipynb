{
 "cells": [
  {
   "cell_type": "markdown",
   "id": "97dd96d6",
   "metadata": {},
   "source": [
    "1. **Roman to Integer**\n",
    "\n",
    "Roman numerals are represented by seven different symbols: `I`, `V`, `X`, `L`, `C`, `D` and `M`.\n",
    "\n",
    "```\n",
    "SymbolValue\n",
    "I             1\n",
    "V             5\n",
    "X             10\n",
    "L             50\n",
    "C             100\n",
    "D             500\n",
    "M             1000\n",
    "```\n",
    "\n",
    "For example, `2` is written as `II` in Roman numeral, just two ones added together. `12` is written as `XII`, which is simply `X + II`. The number `27` is written as `XXVII`, which is `XX + V + II`.\n",
    "\n",
    "Roman numerals are usually written largest to smallest from left to right. However, the numeral for four is not `IIII`. Instead, the number four is written as `IV`. Because the one is before the five we subtract it making four. The same principle applies to the number nine, which is written as `IX`. There are six instances where subtraction is used:\n",
    "\n",
    "- `I` can be placed before `V` (5) and `X` (10) to make 4 and 9.\n",
    "- `X` can be placed before `L` (50) and `C` (100) to make 40 and 90.\n",
    "- `C` can be placed before `D` (500) and `M` (1000) to make 400 and 900.\n",
    "\n",
    "Given a roman numeral, convert it to an integer.\n",
    "\n",
    "**Example 1:**\n",
    "\n",
    "```\n",
    "Input: s = \"III\"\n",
    "Output: 3\n",
    "Explanation: III = 3.\n",
    "```\n"
   ]
  },
  {
   "cell_type": "code",
   "execution_count": 1,
   "id": "2df51064",
   "metadata": {},
   "outputs": [
    {
     "name": "stdout",
     "output_type": "stream",
     "text": [
      "1994\n"
     ]
    }
   ],
   "source": [
    "values =\t{\n",
    "  \"I\": 1,\n",
    "  \"V\": 5,\n",
    "  \"X\": 10,\n",
    "  \"L\": 50,\n",
    "  \"C\": 100,\n",
    "  \"D\": 500,\n",
    "  \"M\": 1000,\n",
    "}\n",
    "\n",
    "def romanToInt(str): \n",
    "    total = 0\n",
    "    i = 0\n",
    "\n",
    "    while (i < len(str)): \n",
    "        s1 = values[str[i]]\n",
    "        if (i+1 < len(str)): \n",
    "            s2 = values[str[i+1]]\n",
    "            if (s1 >= s2): \n",
    "                total = total + s1\n",
    "                i = i + 1\n",
    "            else: \n",
    "                total = total - s1 \n",
    "                i = i + 1\n",
    "        else: \n",
    "            total = total + s1 \n",
    "            i = i + 1\n",
    "    return total\n",
    "  \n",
    "# Driver code \n",
    "print(romanToInt(\"MCMXCIV\")) "
   ]
  },
  {
   "cell_type": "markdown",
   "id": "059eb14d",
   "metadata": {},
   "source": [
    "2. **Longest Substring Without Repeating Characters**\n",
    "\n",
    "Given a string `s`, find the length of the **longest substring** without repeating characters.\n",
    "\n",
    "**Example 1:**\n",
    "\n",
    "```\n",
    "Input: s = \"abcabcbb\"\n",
    "Output: 3\n",
    "Explanation: The answer is \"abc\", with the length of 3.\n",
    "```\n"
   ]
  },
  {
   "cell_type": "code",
   "execution_count": 11,
   "id": "f7a22576",
   "metadata": {},
   "outputs": [],
   "source": [
    "def lengthOfLongestSubstring(s):\n",
    "        def check(start, end):\n",
    "            chars = [0] * 128\n",
    "            for i in range(start, end + 1):\n",
    "                c = s[i]\n",
    "                chars[ord(c)] += 1\n",
    "                if chars[ord(c)] > 1:\n",
    "                    return False\n",
    "            return True\n",
    " \n",
    "        n = len(s)\n",
    "        res = 0\n",
    "        for i in range(n):\n",
    "            for j in range(i, n):\n",
    "                if check(i, j):\n",
    "                    res = max(res, j - i + 1)\n",
    "        return res"
   ]
  },
  {
   "cell_type": "code",
   "execution_count": 12,
   "id": "c66eaa06",
   "metadata": {},
   "outputs": [
    {
     "data": {
      "text/plain": [
       "3"
      ]
     },
     "execution_count": 12,
     "metadata": {},
     "output_type": "execute_result"
    }
   ],
   "source": [
    "lengthOfLongestSubstring( \"abcabcbb\")"
   ]
  },
  {
   "cell_type": "markdown",
   "id": "94248792",
   "metadata": {},
   "source": [
    "3. **Majority Element**\n",
    "\n",
    "Given an array `nums` of size `n`, return *the majority element*.\n",
    "\n",
    "The majority element is the element that appears more than `⌊n / 2⌋` times. You may assume that the majority element always exists in the array.\n",
    "\n",
    "**Example 1:**\n",
    "\n",
    "```\n",
    "Input: nums = [3,2,3]\n",
    "Output: 3\n",
    "```\n",
    "\n"
   ]
  },
  {
   "cell_type": "code",
   "execution_count": 16,
   "id": "35fbfbe8",
   "metadata": {},
   "outputs": [
    {
     "name": "stdout",
     "output_type": "stream",
     "text": [
      "Majority element is  3\n"
     ]
    }
   ],
   "source": [
    "def findMajority(arr, n): \n",
    "    maxCount = 0; \n",
    "    index = -1\n",
    "    for i in range(n): \n",
    "      \n",
    "        count = 0\n",
    "        for j in range(n): \n",
    "          \n",
    "            if(arr[i] == arr[j]): \n",
    "                count += 1\n",
    "\n",
    "        if(count > maxCount): \n",
    "          \n",
    "            maxCount = count \n",
    " \n",
    "    if (maxCount > n//2): \n",
    "        print(\"Majority element is \", arr[index])\n",
    "      \n",
    "    else: \n",
    "        print(\"Majority Element does not exist\") \n",
    "\n",
    "arr = [3,2,3] \n",
    "n = len(arr)      \n",
    "findMajority(arr, n) "
   ]
  },
  {
   "cell_type": "markdown",
   "id": "bc25b0f9",
   "metadata": {},
   "source": [
    "4. **Group Anagram**\n",
    "\n",
    "Given an array of strings `strs`, group **the anagrams** together. You can return the answer in **any order**.\n",
    "\n",
    "An **Anagram** is a word or phrase formed by rearranging the letters of a different word or phrase, typically using all the original letters exactly once.\n",
    "\n",
    "**Example 1:**\n",
    "\n",
    "```\n",
    "Input: strs = [\"eat\",\"tea\",\"tan\",\"ate\",\"nat\",\"bat\"]\n",
    "Output: [[\"bat\"],[\"nat\",\"tan\"],[\"ate\",\"eat\",\"tea\"]]\n",
    "```\n"
   ]
  },
  {
   "cell_type": "markdown",
   "id": "b4f383c4",
   "metadata": {},
   "source": [
    "5. **Ugly Numbers**\n",
    "\n",
    "An **ugly number** is a positive integer whose prime factors are limited to `2`, `3`, and `5`.\n",
    "\n",
    "Given an integer `n`, return *the* `nth` ***ugly number***.\n",
    "\n",
    "**Example 1:**\n",
    "\n",
    "```\n",
    "Input: n = 10\n",
    "Output: 12\n",
    "Explanation: [1, 2, 3, 4, 5, 6, 8, 9, 10, 12] is the sequence of the first 10 ugly numbers.\n",
    "```\n",
    "\n"
   ]
  },
  {
   "cell_type": "code",
   "execution_count": 27,
   "id": "b48e4edc",
   "metadata": {},
   "outputs": [
    {
     "name": "stdout",
     "output_type": "stream",
     "text": [
      "100th Ugly number is: 12\n"
     ]
    }
   ],
   "source": [
    "def succesiveDivision(x, y):\n",
    "    while x % y == 0:\n",
    "        x = x / y\n",
    "    return x\n",
    "\n",
    "def uglyCheck(num):\n",
    "    num = succesiveDivision(num, 2)\n",
    "    num = succesiveDivision(num, 3)\n",
    "    num = succesiveDivision(num, 5)\n",
    "    if num == 1:\n",
    "        return True\n",
    "    else:\n",
    "        return False\n",
    "\n",
    "def nthUgly(n):\n",
    "    i = 1\n",
    "\n",
    "    count = 1 \n",
    "\n",
    "    while n > count:\n",
    "        i += 1\n",
    "        if uglyCheck(i):\n",
    "            count += 1\n",
    "    return i\n",
    "\n",
    "n = nthUgly(10)\n",
    "print(\"100th Ugly number is:\", n)"
   ]
  },
  {
   "cell_type": "markdown",
   "id": "b92e1493",
   "metadata": {},
   "source": [
    "6. **Top K Frequent Words**\n",
    "\n",
    "Given an array of strings `words` and an integer `k`, return *the* `k` *most frequent strings*.\n",
    "\n",
    "Return the answer **sorted** by **the frequency** from highest to lowest. Sort the words with the same frequency by their **lexicographical order**.\n",
    "\n",
    "**Example 1:**\n",
    "\n",
    "```\n",
    "Input: words = [\"i\",\"love\",\"leetcode\",\"i\",\"love\",\"coding\"], k = 2\n",
    "Output: [\"i\",\"love\"]\n",
    "Explanation: \"i\" and \"love\" are the two most frequent words.\n",
    "Note that \"i\" comes before \"love\" due to a lower alphabetical order.\n",
    "```\n"
   ]
  },
  {
   "cell_type": "code",
   "execution_count": 30,
   "id": "d4fe3101",
   "metadata": {},
   "outputs": [],
   "source": [
    "def mostFrequentWord(words, n):\n",
    "   \n",
    "    freq = 0\n",
    "    res = \"\"\n",
    "    for i in range(0, n, 1):\n",
    "        count = 0\n",
    "        for j in range(i + 1, n, 1):\n",
    "            if words[j] == words[i]:\n",
    "                count += 1\n",
    " \n",
    "        if count >= freq:\n",
    "            res = words[i]\n",
    "            freq = count\n",
    " \n",
    "    print(\"The word that occurs most is : \" + str(res))\n",
    "    print(\"No of times: \" + str(freq))\n",
    " \n"
   ]
  },
  {
   "cell_type": "code",
   "execution_count": 31,
   "id": "7c9e887b",
   "metadata": {},
   "outputs": [
    {
     "name": "stdout",
     "output_type": "stream",
     "text": [
      "The word that occurs most is : love\n",
      "No of times: 1\n"
     ]
    }
   ],
   "source": [
    "words = [\"i\",\"love\",\"leetcode\",\"i\",\"love\",\"coding\"]\n",
    "n = len(words)\n",
    "\n",
    "mostFrequentWord(words, n)"
   ]
  },
  {
   "cell_type": "markdown",
   "id": "e150e04a",
   "metadata": {},
   "source": [
    "7. **Sliding Window Maximum**\n",
    "\n",
    "You are given an array of integers `nums`, there is a sliding window of size `k` which is moving from the very left of the array to the very right. You can only see the `k` numbers in the window. Each time the sliding window moves right by one position.\n",
    "\n",
    "Return *the max sliding window*.\n",
    "\n",
    "**Example 1:**\n",
    "\n",
    "```\n",
    "Input: nums = [1,3,-1,-3,5,3,6,7], k = 3\n",
    "Output: [3,3,5,5,6,7]\n",
    "Explanation:\n",
    "Window position                Max\n",
    "---------------               -----\n",
    "[1  3  -1] -3  5  3  6 7         3\n",
    " 1 [3  -1  -3] 5  3  6 7         3\n",
    " 1  3 [-1  -3  5] 3  6 7         5\n",
    " 1  3  -1 [-3  5  3] 6 7         5\n",
    " 1  3  -1  -3 [5  3  6]7         6\n",
    " 1  3  -1  -3  5 [3  6  7]       7\n",
    "```\n"
   ]
  },
  {
   "cell_type": "code",
   "execution_count": 37,
   "id": "7e82df78",
   "metadata": {},
   "outputs": [],
   "source": [
    "def maxSlidingWindow(A,K):\n",
    "    out = []\n",
    "    out.append(max(A[:k]))\n",
    "\n",
    "    for i in range(len(A)-k):\n",
    "        new = A[i+k]\n",
    "        old = A[i]\n",
    "\n",
    "        if new>out[-1]:\n",
    "            out.append(new)\n",
    "        else:\n",
    "            if out[-1]==old:\n",
    "                out.append(max(A[i+1:k+i+1]))\n",
    "            else:\n",
    "                out.append(out[-1])\n",
    "    return(out)"
   ]
  },
  {
   "cell_type": "code",
   "execution_count": 39,
   "id": "b81f67c7",
   "metadata": {},
   "outputs": [
    {
     "data": {
      "text/plain": [
       "[3, 3, 5, 5, 6, 7]"
      ]
     },
     "execution_count": 39,
     "metadata": {},
     "output_type": "execute_result"
    }
   ],
   "source": [
    "A= [1,3,-1,-3,5,3,6,7]\n",
    "k = 3\n",
    "maxSlidingWindow(A,k)"
   ]
  },
  {
   "cell_type": "markdown",
   "id": "9c966a4e",
   "metadata": {},
   "source": [
    "**8.** Given a **sorted** integer array `arr`, two integers `k` and `x`, return the `k` closest integers to `x` in the array. The result should also be sorted in ascending order.\n",
    "\n",
    "An integer `a` is closer to `x` than an integer `b` if:\n",
    "\n",
    "- `|a - x| < |b - x|`, or\n",
    "- `|a - x| == |b - x|` and `a < b`\n",
    "\n",
    "**Example 1:**\n",
    "\n",
    "```\n",
    "Input: arr = [1,2,3,4,5], k = 4, x = 3\n",
    "Output: [1,2,3,4]\n",
    "```"
   ]
  },
  {
   "cell_type": "code",
   "execution_count": null,
   "id": "e79c532a",
   "metadata": {},
   "outputs": [],
   "source": []
  }
 ],
 "metadata": {
  "kernelspec": {
   "display_name": "Python 3 (ipykernel)",
   "language": "python",
   "name": "python3"
  },
  "language_info": {
   "codemirror_mode": {
    "name": "ipython",
    "version": 3
   },
   "file_extension": ".py",
   "mimetype": "text/x-python",
   "name": "python",
   "nbconvert_exporter": "python",
   "pygments_lexer": "ipython3",
   "version": "3.9.7"
  }
 },
 "nbformat": 4,
 "nbformat_minor": 5
}
